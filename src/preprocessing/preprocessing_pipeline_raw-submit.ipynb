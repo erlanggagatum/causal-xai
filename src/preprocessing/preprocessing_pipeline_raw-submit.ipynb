{
 "cells": [
  {
   "cell_type": "markdown",
   "metadata": {},
   "source": [
    "This notebook contains preprocessing pipeline for the raw dataset (non missing) (python 3.9.18)\n",
    "\n",
    "Libraries:\n",
    "• tensorflow 2.15.0\n",
    "• keras 2.15.0\n",
    "• scikit-learn 1.3.0\n",
    "• matplotlib 3.7.1"
   ]
  },
  {
   "cell_type": "code",
   "execution_count": 3,
   "metadata": {},
   "outputs": [
    {
     "name": "stdout",
     "output_type": "stream",
     "text": [
      "The autoreload extension is already loaded. To reload it, use:\n",
      "  %reload_ext autoreload\n"
     ]
    }
   ],
   "source": [
    "%load_ext autoreload\n",
    "%autoreload 2\n",
    "import sys\n",
    "sys.path.append('..')\n",
    "from utils import *"
   ]
  },
  {
   "cell_type": "code",
   "execution_count": 4,
   "metadata": {},
   "outputs": [],
   "source": [
    "DATASET_PATH = '../dataset'"
   ]
  },
  {
   "cell_type": "markdown",
   "metadata": {},
   "source": [
    "### Preprocessing Pipeline on Raw Dataset"
   ]
  },
  {
   "cell_type": "markdown",
   "metadata": {},
   "source": [
    "Load and time resolution preprocessing"
   ]
  },
  {
   "cell_type": "code",
   "execution_count": 5,
   "metadata": {},
   "outputs": [],
   "source": [
    "# Load dataset\n",
    "dataset = pd_import(f'{DATASET_PATH}/household_power_consumption_1_0_no_missing.csv')"
   ]
  },
  {
   "cell_type": "code",
   "execution_count": 4,
   "metadata": {},
   "outputs": [],
   "source": [
    "# Make time resolution\n",
    "time_resolutions = ['H'] #'30T',  'W', 'M', 'D', '1T', '4H']\n",
    "\n",
    "for time_resolution in time_resolutions:\n",
    "    dataset_resampled = dataset.resample(time_resolution).mean()\n",
    "    \n",
    "    # export dataset\n",
    "    dataset_resampled.to_csv(f'{DATASET_PATH}/household_power_consumption_{time_resolution}.csv')"
   ]
  },
  {
   "cell_type": "code",
   "execution_count": 6,
   "metadata": {},
   "outputs": [],
   "source": [
    "dataset = pd_import(f'{DATASET_PATH}/household_power_consumption_H.csv')"
   ]
  },
  {
   "cell_type": "code",
   "execution_count": 4,
   "metadata": {},
   "outputs": [],
   "source": [
    "dataset_norm = scaler(dataset=dataset)"
   ]
  },
  {
   "cell_type": "markdown",
   "metadata": {},
   "source": [
    "Make sequence dataset"
   ]
  },
  {
   "cell_type": "code",
   "execution_count": 5,
   "metadata": {},
   "outputs": [],
   "source": [
    "# Make sequence dataset\n",
    "dataset_sequence = create_sequences(dataset, 'Global_active_power', 10)\n",
    "dataset_norm_sequence = create_sequences(dataset_norm, 'Global_active_power', 10)"
   ]
  },
  {
   "cell_type": "markdown",
   "metadata": {},
   "source": [
    "Discretize Y (ground truth)"
   ]
  },
  {
   "cell_type": "code",
   "execution_count": 6,
   "metadata": {},
   "outputs": [
    {
     "name": "stdout",
     "output_type": "stream",
     "text": [
      "finished generating peak labels..\n",
      "peak_labels == dataset_sequence\n"
     ]
    }
   ],
   "source": [
    "peak_label_y = np.array(generate_peak_label(dataset_sequence=dataset_sequence))"
   ]
  },
  {
   "cell_type": "markdown",
   "metadata": {},
   "source": [
    "Discretize X"
   ]
  },
  {
   "cell_type": "code",
   "execution_count": 7,
   "metadata": {},
   "outputs": [
    {
     "name": "stderr",
     "output_type": "stream",
     "text": [
      "c:\\Users\\sclab\\Documents\\Lab\\General XAI Bayesian Network\\Projects\\bayesian-xai\\src\\preprocessing\\..\\utils.py:164: RuntimeWarning: invalid value encountered in scalar divide\n",
      "  normalized_data = [x / total_de_minned for x in de_minned_data]\n"
     ]
    },
    {
     "name": "stdout",
     "output_type": "stream",
     "text": [
      "[0.0, 0.0, 0.0, 0.0, 0.0, 0.0, 0.0, 0.0, 0.0, 0.0]\n",
      "34579\n",
      "[0.55381179 0.35354184 0.76373749]\n",
      "[0.35354184 0.55381179 0.76373749]\n",
      "{0: 1, 1: 0, 2: 2}\n",
      "34579\n",
      "[0.67578656 0.42896484 0.55203064]\n",
      "[0.42896484 0.55203064 0.67578656]\n",
      "{0: 2, 1: 0, 2: 1}\n",
      "34579\n",
      "[0.54809956 0.668216   0.43093203]\n",
      "[0.43093203 0.54809956 0.668216  ]\n",
      "{0: 1, 1: 2, 2: 0}\n",
      "34579\n",
      "[0.55215677 0.35524945 0.76029298]\n",
      "[0.35524945 0.55215677 0.76029298]\n",
      "{0: 1, 1: 0, 2: 2}\n",
      "34579\n",
      "[0.83523327 0.01432465 0.40176741]\n",
      "[0.01432465 0.40176741 0.83523327]\n",
      "{0: 2, 1: 0, 2: 1}\n",
      "34579\n",
      "[0.55296877 0.82028577 0.23793788]\n",
      "[0.23793788 0.55296877 0.82028577]\n",
      "{0: 1, 1: 2, 2: 0}\n",
      "34579\n",
      "[0.5436395  0.75352107 0.3251839 ]\n",
      "[0.3251839  0.5436395  0.75352107]\n",
      "{0: 1, 1: 2, 2: 0}\n",
      "34579\n",
      "[0.33419096 0.79074458 0.55169754]\n",
      "[0.33419096 0.55169754 0.79074458]\n",
      "{0: 0, 1: 2, 2: 1}\n"
     ]
    }
   ],
   "source": [
    "# Generate cumulative demined sequence\n",
    "_, dataset_cdemined_sequence = generate_cumulative_demined_sequence(dataset_sequence=dataset_sequence)\n",
    "\n",
    "# cluster label\n",
    "col_cluster_labels = cluster_cumulative_seqs(dataset_cdemined_sequence)\n",
    "\n",
    "# generate dataset sequence with cluster information\n",
    "dataset_sequence_cluster = generate_dataset_sequence_cluster(dataset_sequence=dataset_norm_sequence, col_cluster_labels=col_cluster_labels)"
   ]
  },
  {
   "cell_type": "code",
   "execution_count": 8,
   "metadata": {},
   "outputs": [
    {
     "data": {
      "text/html": [
       "<div>\n",
       "<style scoped>\n",
       "    .dataframe tbody tr th:only-of-type {\n",
       "        vertical-align: middle;\n",
       "    }\n",
       "\n",
       "    .dataframe tbody tr th {\n",
       "        vertical-align: top;\n",
       "    }\n",
       "\n",
       "    .dataframe thead th {\n",
       "        text-align: right;\n",
       "    }\n",
       "</style>\n",
       "<table border=\"1\" class=\"dataframe\">\n",
       "  <thead>\n",
       "    <tr style=\"text-align: right;\">\n",
       "      <th></th>\n",
       "      <th>Global_active_power</th>\n",
       "      <th>Global_reactive_power</th>\n",
       "      <th>Voltage</th>\n",
       "      <th>Global_intensity</th>\n",
       "      <th>Sub_metering_1</th>\n",
       "      <th>Sub_metering_2</th>\n",
       "      <th>Sub_metering_3</th>\n",
       "      <th>sub_metering_4</th>\n",
       "    </tr>\n",
       "    <tr>\n",
       "      <th>datetime</th>\n",
       "      <th></th>\n",
       "      <th></th>\n",
       "      <th></th>\n",
       "      <th></th>\n",
       "      <th></th>\n",
       "      <th></th>\n",
       "      <th></th>\n",
       "      <th></th>\n",
       "    </tr>\n",
       "  </thead>\n",
       "  <tbody>\n",
       "    <tr>\n",
       "      <th>2006-12-16 17:00:00</th>\n",
       "      <td>0.636816</td>\n",
       "      <td>0.295738</td>\n",
       "      <td>0.337945</td>\n",
       "      <td>0.631157</td>\n",
       "      <td>0.0</td>\n",
       "      <td>0.011366</td>\n",
       "      <td>0.782418</td>\n",
       "      <td>0.813346</td>\n",
       "    </tr>\n",
       "    <tr>\n",
       "      <th>2006-12-16 18:00:00</th>\n",
       "      <td>0.545045</td>\n",
       "      <td>0.103358</td>\n",
       "      <td>0.335501</td>\n",
       "      <td>0.541487</td>\n",
       "      <td>0.0</td>\n",
       "      <td>0.144652</td>\n",
       "      <td>0.782676</td>\n",
       "      <td>0.560591</td>\n",
       "    </tr>\n",
       "    <tr>\n",
       "      <th>2006-12-16 19:00:00</th>\n",
       "      <td>0.509006</td>\n",
       "      <td>0.110073</td>\n",
       "      <td>0.283802</td>\n",
       "      <td>0.502152</td>\n",
       "      <td>0.0</td>\n",
       "      <td>0.030869</td>\n",
       "      <td>0.774169</td>\n",
       "      <td>0.585814</td>\n",
       "    </tr>\n",
       "    <tr>\n",
       "      <th>2006-12-16 20:00:00</th>\n",
       "      <td>0.488550</td>\n",
       "      <td>0.096987</td>\n",
       "      <td>0.315987</td>\n",
       "      <td>0.481110</td>\n",
       "      <td>0.0</td>\n",
       "      <td>0.000000</td>\n",
       "      <td>0.778809</td>\n",
       "      <td>0.572244</td>\n",
       "    </tr>\n",
       "    <tr>\n",
       "      <th>2006-12-16 21:00:00</th>\n",
       "      <td>0.455597</td>\n",
       "      <td>0.099010</td>\n",
       "      <td>0.434417</td>\n",
       "      <td>0.449904</td>\n",
       "      <td>0.0</td>\n",
       "      <td>0.008973</td>\n",
       "      <td>0.798917</td>\n",
       "      <td>0.503143</td>\n",
       "    </tr>\n",
       "    <tr>\n",
       "      <th>2006-12-16 22:00:00</th>\n",
       "      <td>0.322555</td>\n",
       "      <td>0.072536</td>\n",
       "      <td>0.495847</td>\n",
       "      <td>0.323529</td>\n",
       "      <td>0.0</td>\n",
       "      <td>0.002872</td>\n",
       "      <td>0.205723</td>\n",
       "      <td>0.484145</td>\n",
       "    </tr>\n",
       "    <tr>\n",
       "      <th>2006-12-16 23:00:00</th>\n",
       "      <td>0.301032</td>\n",
       "      <td>0.092251</td>\n",
       "      <td>0.567188</td>\n",
       "      <td>0.301052</td>\n",
       "      <td>0.0</td>\n",
       "      <td>0.001795</td>\n",
       "      <td>0.000000</td>\n",
       "      <td>0.518411</td>\n",
       "    </tr>\n",
       "    <tr>\n",
       "      <th>2006-12-17 00:00:00</th>\n",
       "      <td>0.273201</td>\n",
       "      <td>0.132286</td>\n",
       "      <td>0.580314</td>\n",
       "      <td>0.273434</td>\n",
       "      <td>0.0</td>\n",
       "      <td>0.010050</td>\n",
       "      <td>0.000000</td>\n",
       "      <td>0.465323</td>\n",
       "    </tr>\n",
       "    <tr>\n",
       "      <th>2006-12-17 01:00:00</th>\n",
       "      <td>0.501108</td>\n",
       "      <td>0.176840</td>\n",
       "      <td>0.560615</td>\n",
       "      <td>0.492946</td>\n",
       "      <td>0.0</td>\n",
       "      <td>0.543431</td>\n",
       "      <td>0.000000</td>\n",
       "      <td>0.460315</td>\n",
       "    </tr>\n",
       "    <tr>\n",
       "      <th>2006-12-17 02:00:00</th>\n",
       "      <td>0.227338</td>\n",
       "      <td>0.101033</td>\n",
       "      <td>0.766631</td>\n",
       "      <td>0.228360</td>\n",
       "      <td>0.0</td>\n",
       "      <td>0.012204</td>\n",
       "      <td>0.000000</td>\n",
       "      <td>0.386215</td>\n",
       "    </tr>\n",
       "  </tbody>\n",
       "</table>\n",
       "</div>"
      ],
      "text/plain": [
       "                     Global_active_power  Global_reactive_power   Voltage  \\\n",
       "datetime                                                                    \n",
       "2006-12-16 17:00:00             0.636816               0.295738  0.337945   \n",
       "2006-12-16 18:00:00             0.545045               0.103358  0.335501   \n",
       "2006-12-16 19:00:00             0.509006               0.110073  0.283802   \n",
       "2006-12-16 20:00:00             0.488550               0.096987  0.315987   \n",
       "2006-12-16 21:00:00             0.455597               0.099010  0.434417   \n",
       "2006-12-16 22:00:00             0.322555               0.072536  0.495847   \n",
       "2006-12-16 23:00:00             0.301032               0.092251  0.567188   \n",
       "2006-12-17 00:00:00             0.273201               0.132286  0.580314   \n",
       "2006-12-17 01:00:00             0.501108               0.176840  0.560615   \n",
       "2006-12-17 02:00:00             0.227338               0.101033  0.766631   \n",
       "\n",
       "                     Global_intensity  Sub_metering_1  Sub_metering_2  \\\n",
       "datetime                                                                \n",
       "2006-12-16 17:00:00          0.631157             0.0        0.011366   \n",
       "2006-12-16 18:00:00          0.541487             0.0        0.144652   \n",
       "2006-12-16 19:00:00          0.502152             0.0        0.030869   \n",
       "2006-12-16 20:00:00          0.481110             0.0        0.000000   \n",
       "2006-12-16 21:00:00          0.449904             0.0        0.008973   \n",
       "2006-12-16 22:00:00          0.323529             0.0        0.002872   \n",
       "2006-12-16 23:00:00          0.301052             0.0        0.001795   \n",
       "2006-12-17 00:00:00          0.273434             0.0        0.010050   \n",
       "2006-12-17 01:00:00          0.492946             0.0        0.543431   \n",
       "2006-12-17 02:00:00          0.228360             0.0        0.012204   \n",
       "\n",
       "                     Sub_metering_3  sub_metering_4  \n",
       "datetime                                             \n",
       "2006-12-16 17:00:00        0.782418        0.813346  \n",
       "2006-12-16 18:00:00        0.782676        0.560591  \n",
       "2006-12-16 19:00:00        0.774169        0.585814  \n",
       "2006-12-16 20:00:00        0.778809        0.572244  \n",
       "2006-12-16 21:00:00        0.798917        0.503143  \n",
       "2006-12-16 22:00:00        0.205723        0.484145  \n",
       "2006-12-16 23:00:00        0.000000        0.518411  \n",
       "2006-12-17 00:00:00        0.000000        0.465323  \n",
       "2006-12-17 01:00:00        0.000000        0.460315  \n",
       "2006-12-17 02:00:00        0.000000        0.386215  "
      ]
     },
     "execution_count": 8,
     "metadata": {},
     "output_type": "execute_result"
    }
   ],
   "source": [
    "dataset_sequence_cluster[0][0]"
   ]
  },
  {
   "cell_type": "markdown",
   "metadata": {},
   "source": [
    "Save"
   ]
  },
  {
   "cell_type": "code",
   "execution_count": 9,
   "metadata": {},
   "outputs": [],
   "source": [
    "# peak_label_old = np.load(f'{DATASET_PATH}/preprocessed/H/peak_labels_1H_10W.npy')\n",
    "# peak label y \n",
    "np.save(f'{DATASET_PATH}/peak_labels_1H_10W.npy', peak_label_y)\n",
    "\n",
    "# sequence dataset with corresponding cluster and ground truth Y (cont.)\n",
    "with open(f'{DATASET_PATH}/dataset_sequence_cluster_1H_10W.pkl', 'wb') as f:\n",
    "    pkl.dump(dataset_sequence_cluster, f)\n",
    "# dataset_sequence_cluster"
   ]
  }
 ],
 "metadata": {
  "kernelspec": {
   "display_name": "xai2",
   "language": "python",
   "name": "python3"
  },
  "language_info": {
   "codemirror_mode": {
    "name": "ipython",
    "version": 3
   },
   "file_extension": ".py",
   "mimetype": "text/x-python",
   "name": "python",
   "nbconvert_exporter": "python",
   "pygments_lexer": "ipython3",
   "version": "3.9.18"
  }
 },
 "nbformat": 4,
 "nbformat_minor": 2
}
